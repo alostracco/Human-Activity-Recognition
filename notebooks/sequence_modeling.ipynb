{
 "cells": [
  {
   "cell_type": "markdown",
   "metadata": {},
   "source": [
    "# Sequence Model Definition and Initial Training\n",
    "This notebook focuses on defining and training sequence models (LSTM and RNN) for human activity recognition."
   ]
  },
  {
   "cell_type": "code",
   "execution_count": null,
   "metadata": {},
   "outputs": [],
   "source": [
    "# Setup and Imports\n",
    "import numpy as np\n",
    "import pandas as pd\n",
    "import tensorflow as tf\n",
    "from tensorflow.keras.models import Sequential\n",
    "from tensorflow.keras.layers import LSTM, SimpleRNN, Dense, Dropout\n",
    "from sklearn.model_selection import train_test_split\n",
    "from sklearn.preprocessing import LabelEncoder\n",
    "\n",
    "data = pd.read_csv('data/preprocessed_data.csv')\n",
    "\n",
    "X = data.drop('activity_label', axis=1).values\n",
    "y = data['activity_label'].values\n",
    "\n",
    "# Reshape data for LSTM and RNN input\n",
    "time_steps = 100  # Example time step length\n",
    "num_features = X.shape[1] // time_steps\n",
    "X = X.reshape((-1, time_steps, num_features))\n",
    "\n",
    "# Encode labels\n",
    "label_encoder = LabelEncoder()\n",
    "y = label_encoder.fit_transform(y)\n",
    "\n",
    "# Split data into training and testing sets\n",
    "X_train, X_test, y_train, y_test = train_test_split(X, y, test_size=0.2, random_state=42)\n"
   ]
  },
  {
   "cell_type": "markdown",
   "metadata": {},
   "source": [
    "## LSTM Model Definition and Training"
   ]
  },
  {
   "cell_type": "code",
   "execution_count": null,
   "metadata": {},
   "outputs": [],
   "source": [
    "# Define the LSTM model\n",
    "lstm_model = Sequential()\n",
    "lstm_model.add(LSTM(64, return_sequences=True, input_shape=(time_steps, num_features)))\n",
    "lstm_model.add(Dropout(0.2))\n",
    "lstm_model.add(LSTM(64))\n",
    "lstm_model.add(Dropout(0.2))\n",
    "lstm_model.add(Dense(64, activation='relu'))\n",
    "lstm_model.add(Dense(len(np.unique(y)), activation='softmax'))\n",
    "\n",
    "# Compile the LSTM model\n",
    "lstm_model.compile(optimizer='adam', loss='sparse_categorical_crossentropy', metrics=['accuracy'])\n",
    "\n",
    "# LSTM Model summary\n",
    "lstm_model.summary()\n",
    "\n",
    "# Train the LSTM model\n",
    "lstm_history = lstm_model.fit(X_train, y_train, epochs=5, batch_size=32, validation_split=0.2, verbose=2)\n",
    "\n",
    "# Save the LSTM model\n",
    "lstm_model.save('models/lstm_model.h5')"
   ]
  },
  {
   "cell_type": "markdown",
   "metadata": {},
   "source": [
    "## RNN Model Definition and Training"
   ]
  },
  {
   "cell_type": "code",
   "execution_count": null,
   "metadata": {},
   "outputs": [],
   "source": [
    "# Define the RNN model\n",
    "rnn_model = Sequential()\n",
    "rnn_model.add(SimpleRNN(64, return_sequences=True, input_shape=(time_steps, num_features)))\n",
    "rnn_model.add(Dropout(0.2))\n",
    "rnn_model.add(SimpleRNN(64))\n",
    "rnn_model.add(Dropout(0.2))\n",
    "rnn_model.add(Dense(64, activation='relu'))\n",
    "rnn_model.add(Dense(len(np.unique(y)), activation='softmax'))\n",
    "\n",
    "# Compile the RNN model\n",
    "rnn_model.compile(optimizer='adam', loss='sparse_categorical_crossentropy', metrics=['accuracy'])\n",
    "\n",
    "# RNN Model summary\n",
    "rnn_model.summary()\n",
    "\n",
    "# Train the RNN model\n",
    "rnn_history = rnn_model.fit(X_train, y_train, epochs=5, batch_size=32, validation_split=0.2, verbose=2)\n",
    "\n",
    "# Save the RNN model\n",
    "rnn_model.save('models/rnn_model.h5')"
   ]
  },
  {
   "cell_type": "markdown",
   "metadata": {},
   "source": [
    "## Conclusion\n",
    "This notebook defined and performed initial training of both LSTM and RNN models for human activity recognition. The trained models were saved for further evaluation [here](model_training_evaluation.ipynb)."
   ]
  }
 ],
 "metadata": {
  "kernelspec": {
   "display_name": "base",
   "language": "python",
   "name": "python3"
  },
  "language_info": {
   "name": "python",
   "version": "3.8.8"
  }
 },
 "nbformat": 4,
 "nbformat_minor": 2
}
