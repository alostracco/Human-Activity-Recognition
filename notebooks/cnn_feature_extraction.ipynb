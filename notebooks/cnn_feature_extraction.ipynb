{
 "cells": [
  {
   "cell_type": "code",
   "execution_count": null,
   "metadata": {},
   "outputs": [
    {
     "name": "stdout",
     "output_type": "stream",
     "text": [
      "\n",
      "Corresponding label for the first window:\n",
      "user                           1\n",
      "activity                       1\n",
      "timestamp_start    5375862287000\n",
      "timestamp_end      5380802320000\n",
      "Name: 90, dtype: int64\n"
     ]
    }
   ],
   "source": [
    "import numpy as np\n",
    "import pandas as pd\n",
    "\n",
    "# Load the NumPy file (accelerometer data)\n",
    "loaded_data = np.load('segmented_data.npy', allow_pickle=True)\n",
    "\n",
    "# Load the segmented labels CSV file\n",
    "labels_df = pd.read_csv('segmented_labels.csv')\n",
    "\n",
    "\n",
    "print(loaded_data[0])  # Accelerometer data of the first window\n",
    "\n",
    "print(labels_df.iloc[90])  # Label (user, activity, timestamp) of the first window\n",
    "\n",
    "\n"
   ]
  }
 ],
 "metadata": {
  "kernelspec": {
   "display_name": "Python 3",
   "language": "python",
   "name": "python3"
  },
  "language_info": {
   "codemirror_mode": {
    "name": "ipython",
    "version": 3
   },
   "file_extension": ".py",
   "mimetype": "text/x-python",
   "name": "python",
   "nbconvert_exporter": "python",
   "pygments_lexer": "ipython3",
   "version": "3.12.2"
  }
 },
 "nbformat": 4,
 "nbformat_minor": 2
}
